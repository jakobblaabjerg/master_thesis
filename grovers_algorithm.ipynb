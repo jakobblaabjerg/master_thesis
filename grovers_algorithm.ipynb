{
 "cells": [
  {
   "cell_type": "markdown",
   "id": "2492fd9d",
   "metadata": {},
   "source": [
    "# Grover's algorithm"
   ]
  },
  {
   "cell_type": "markdown",
   "id": "2785e59d",
   "metadata": {},
   "source": [
    "Grover search circuit"
   ]
  },
  {
   "cell_type": "code",
   "execution_count": 2,
   "id": "ffc7a3cf",
   "metadata": {},
   "outputs": [],
   "source": [
    "import math\n",
    "from qiskit import QuantumCircuit, transpile\n",
    "from qiskit_aer import Aer\n",
    "from qiskit.circuit.library import GroverOperator, MCMT, ZGate\n",
    "from qiskit.visualization import plot_distribution, plot_histogram\n",
    "from qiskit.primitives import Sampler"
   ]
  },
  {
   "cell_type": "markdown",
   "id": "761b37a1",
   "metadata": {},
   "source": [
    "Query function"
   ]
  },
  {
   "cell_type": "code",
   "execution_count": 3,
   "id": "a3a87f50",
   "metadata": {},
   "outputs": [],
   "source": [
    "def query_function(marked_states):\n",
    "    \"\"\"\n",
    "    Creates the oracle quantum circuit\n",
    "\n",
    "    Parameters:\n",
    "    marked_states (list of str): List of bit strings representing the states to be marked as 'good'.\n",
    "\n",
    "    Returns:\n",
    "    QuantumCircuit: The quantum circuit representing the phase oracle.    \n",
    "    \"\"\"\n",
    "    \n",
    "    if not isinstance(marked_states, list):\n",
    "        marked_states = [marked_states]\n",
    "    \n",
    "    num_qubits = len(marked_states[0])\n",
    "    qc = QuantumCircuit(num_qubits)\n",
    " \n",
    "    # mark each target state in the input list\n",
    "    for state in marked_states:\n",
    "        \n",
    "        # flip bit-string to match Qiskit bit-ordering\n",
    "        state = state[::-1]\n",
    "        \n",
    "        # find the indices of all the '0' elements in bit-string\n",
    "        zero_indices = [i for i in range(num_qubits) if state.startswith('0', i)]\n",
    "        \n",
    "        # add a multi-controlled Z-gate with pre- and post-applied X-gates where the target bit-string has a '0' entry\n",
    "        if len(zero_indices) > 0:\n",
    "            qc.x(zero_indices)\n",
    "            qc.compose(MCMT(gate='z', num_ctrl_qubits=num_qubits-1, num_target_qubits=1), inplace=True)\n",
    "            qc.x(zero_indices)\n",
    "        else:\n",
    "            qc.compose(MCMT(gate='z', num_ctrl_qubits=num_qubits-1, num_target_qubits=1), inplace=True)\n",
    "    \n",
    "    return qc"
   ]
  },
  {
   "cell_type": "markdown",
   "id": "d1c752e3",
   "metadata": {},
   "source": [
    "Visualize circuit"
   ]
  },
  {
   "cell_type": "code",
   "execution_count": 4,
   "id": "edc127a7",
   "metadata": {},
   "outputs": [
    {
     "data": {
      "text/html": [
       "<pre style=\"word-wrap: normal;white-space: pre;background: #fff0;line-height: 1.1;font-family: &quot;Courier New&quot;,Courier,monospace\">                  \n",
       "q_0: ──────■──────\n",
       "           │      \n",
       "q_1: ──────■──────\n",
       "     ┌───┐ │ ┌───┐\n",
       "q_2: ┤ X ├─■─┤ X ├\n",
       "     └───┘   └───┘</pre>"
      ],
      "text/plain": [
       "                  \n",
       "q_0: ──────■──────\n",
       "           │      \n",
       "q_1: ──────■──────\n",
       "     ┌───┐ │ ┌───┐\n",
       "q_2: ┤ X ├─■─┤ X ├\n",
       "     └───┘   └───┘"
      ]
     },
     "execution_count": 4,
     "metadata": {},
     "output_type": "execute_result"
    }
   ],
   "source": [
    "# list of marked states\n",
    "marked_states = ['011']\n",
    "\n",
    "# construct the oracle circuit\n",
    "oracle = query_function(marked_states)\n",
    "\n",
    "# draw the oracle circuit\n",
    "oracle.draw()"
   ]
  },
  {
   "cell_type": "markdown",
   "id": "bcb91935",
   "metadata": {},
   "source": [
    "Grover operator"
   ]
  },
  {
   "cell_type": "code",
   "execution_count": 5,
   "id": "0b1f50de",
   "metadata": {},
   "outputs": [
    {
     "data": {
      "text/html": [
       "<pre style=\"word-wrap: normal;white-space: pre;background: #fff0;line-height: 1.1;font-family: &quot;Courier New&quot;,Courier,monospace\">global phase: π\n",
       "                 ┌───┐┌───┐               ┌───┐┌───┐     \n",
       "state_0: ──────■─┤ H ├┤ X ├────────────■──┤ X ├┤ H ├─────\n",
       "               │ ├───┤├───┤            │  ├───┤├───┤     \n",
       "state_1: ──────■─┤ H ├┤ X ├────────────■──┤ X ├┤ H ├─────\n",
       "         ┌───┐ │ ├───┤├───┤┌───┐┌───┐┌─┴─┐├───┤├───┤┌───┐\n",
       "state_2: ┤ X ├─■─┤ X ├┤ H ├┤ X ├┤ H ├┤ X ├┤ H ├┤ X ├┤ H ├\n",
       "         └───┘   └───┘└───┘└───┘└───┘└───┘└───┘└───┘└───┘</pre>"
      ],
      "text/plain": [
       "global phase: π\n",
       "                 ┌───┐┌───┐               ┌───┐┌───┐     \n",
       "state_0: ──────■─┤ H ├┤ X ├────────────■──┤ X ├┤ H ├─────\n",
       "               │ ├───┤├───┤            │  ├───┤├───┤     \n",
       "state_1: ──────■─┤ H ├┤ X ├────────────■──┤ X ├┤ H ├─────\n",
       "         ┌───┐ │ ├───┤├───┤┌───┐┌───┐┌─┴─┐├───┤├───┤┌───┐\n",
       "state_2: ┤ X ├─■─┤ X ├┤ H ├┤ X ├┤ H ├┤ X ├┤ H ├┤ X ├┤ H ├\n",
       "         └───┘   └───┘└───┘└───┘└───┘└───┘└───┘└───┘└───┘"
      ]
     },
     "execution_count": 5,
     "metadata": {},
     "output_type": "execute_result"
    }
   ],
   "source": [
    "# qiskit implementation\n",
    "grover_operator = GroverOperator(oracle)\n",
    "grover_operator.decompose().draw()"
   ]
  },
  {
   "cell_type": "code",
   "execution_count": 6,
   "id": "0090bab5",
   "metadata": {},
   "outputs": [
    {
     "name": "stdout",
     "output_type": "stream",
     "text": [
      "Optimal number of iterations: 2\n"
     ]
    }
   ],
   "source": [
    "# compute the optimal number of iterations for Grover's algorithm\n",
    "optimal_num_iterations = math.floor(math.pi / (4*math.asin(math.sqrt(len(marked_states)/2**grover_operator.num_qubits))))\n",
    "print(f'Optimal number of iterations: {optimal_num_iterations}')"
   ]
  },
  {
   "cell_type": "markdown",
   "id": "5c191bcb",
   "metadata": {},
   "source": [
    "Full Grover circuit"
   ]
  },
  {
   "cell_type": "code",
   "execution_count": 7,
   "id": "4f0fe6b9",
   "metadata": {},
   "outputs": [
    {
     "data": {
      "text/html": [
       "<pre style=\"word-wrap: normal;white-space: pre;background: #fff0;line-height: 1.1;font-family: &quot;Courier New&quot;,Courier,monospace\">        ┌───┐┌────┐┌────┐ ░ ┌─┐      \n",
       "   q_0: ┤ H ├┤0   ├┤0   ├─░─┤M├──────\n",
       "        ├───┤│    ││    │ ░ └╥┘┌─┐   \n",
       "   q_1: ┤ H ├┤1 Q ├┤1 Q ├─░──╫─┤M├───\n",
       "        ├───┤│    ││    │ ░  ║ └╥┘┌─┐\n",
       "   q_2: ┤ H ├┤2   ├┤2   ├─░──╫──╫─┤M├\n",
       "        └───┘└────┘└────┘ ░  ║  ║ └╥┘\n",
       "meas: 3/═════════════════════╩══╩══╩═\n",
       "                             0  1  2 </pre>"
      ],
      "text/plain": [
       "        ┌───┐┌────┐┌────┐ ░ ┌─┐      \n",
       "   q_0: ┤ H ├┤0   ├┤0   ├─░─┤M├──────\n",
       "        ├───┤│    ││    │ ░ └╥┘┌─┐   \n",
       "   q_1: ┤ H ├┤1 Q ├┤1 Q ├─░──╫─┤M├───\n",
       "        ├───┤│    ││    │ ░  ║ └╥┘┌─┐\n",
       "   q_2: ┤ H ├┤2   ├┤2   ├─░──╫──╫─┤M├\n",
       "        └───┘└────┘└────┘ ░  ║  ║ └╥┘\n",
       "meas: 3/═════════════════════╩══╩══╩═\n",
       "                             0  1  2 "
      ]
     },
     "execution_count": 7,
     "metadata": {},
     "output_type": "execute_result"
    }
   ],
   "source": [
    "# initialize the quantum circuit\n",
    "qc = QuantumCircuit(grover_operator.num_qubits)\n",
    "\n",
    "# create even superposition of all basis states\n",
    "qc.h(range(grover_operator.num_qubits))\n",
    "\n",
    "# apply Grover operator the optimal number of times\n",
    "qc.compose(grover_operator.power(optimal_num_iterations), inplace=True)\n",
    "\n",
    "# measure all qubits\n",
    "qc.measure_all()\n",
    "\n",
    "qc.draw()"
   ]
  },
  {
   "cell_type": "markdown",
   "id": "5218deb3",
   "metadata": {},
   "source": [
    "Execute quantum circuit and post-process"
   ]
  },
  {
   "cell_type": "code",
   "execution_count": 8,
   "id": "6d4d574d",
   "metadata": {},
   "outputs": [
    {
     "data": {
      "image/png": "[encoded data removed]",
      "text/plain": [
       "<Figure size 700x500 with 1 Axes>"
      ]
     },
     "execution_count": 8,
     "metadata": {},
     "output_type": "execute_result"
    }
   ],
   "source": [
    "# use the Sampler from qiskit.primitives for local statevector simulation\n",
    "sampler = Sampler()\n",
    "\n",
    "# run the circuit with shots=100\n",
    "job = sampler.run(qc, shots=100, seed=42)\n",
    "\n",
    "# get the result of the job\n",
    "job_result = job.result()\n",
    "\n",
    "# get the counts from the result\n",
    "counts = job_result.quasi_dists[0]\n",
    "plot_distribution(counts.binary_probabilities())"
   ]
  },
  {
   "cell_type": "code",
   "execution_count": 9,
   "id": "a4dd04f8",
   "metadata": {},
   "outputs": [
    {
     "data": {
      "image/png": "[encoded data removed]",
      "text/plain": [
       "<Figure size 700x500 with 1 Axes>"
      ]
     },
     "execution_count": 9,
     "metadata": {},
     "output_type": "execute_result"
    }
   ],
   "source": [
    "# qasm as backend\n",
    "simulator = Aer.get_backend('qasm_simulator')\n",
    "qc_transpiled = transpile(qc, simulator, optimization_level=1)\n",
    "job = simulator.run(qc_transpiled, shots=100, seed=42)\n",
    "job_result = job.result() \n",
    "counts = job_result.get_counts(qc_transpiled)\n",
    "plot_distribution(counts)\n",
    "plot_histogram(counts)"
   ]
  },
  {
   "cell_type": "code",
   "execution_count": 10,
   "id": "7801dd12",
   "metadata": {},
   "outputs": [
    {
     "data": {
      "text/html": [
       "<pre style=\"word-wrap: normal;white-space: pre;background: #fff0;line-height: 1.1;font-family: &quot;Courier New&quot;,Courier,monospace\">        ┌───┐               ┌───┐┌───┐                    ┌───┐┌───┐          »\n",
       "   q_0: ┤ H ├────────────■──┤ H ├┤ X ├─────────────────■──┤ X ├┤ H ├──────────»\n",
       "        ├───┤            │  ├───┤├───┤                 │  ├───┤├───┤          »\n",
       "   q_1: ┤ H ├────────────■──┤ H ├┤ X ├─────────────────■──┤ X ├┤ H ├──────────»\n",
       "        ├───┤┌───┐┌───┐┌─┴─┐├───┤├───┤┌───┐┌───┐┌───┐┌─┴─┐├───┤├───┤┌───┐┌───┐»\n",
       "   q_2: ┤ H ├┤ X ├┤ H ├┤ X ├┤ H ├┤ X ├┤ H ├┤ X ├┤ H ├┤ X ├┤ H ├┤ X ├┤ H ├┤ X ├»\n",
       "        └───┘└───┘└───┘└───┘└───┘└───┘└───┘└───┘└───┘└───┘└───┘└───┘└───┘└───┘»\n",
       "meas: 3/══════════════════════════════════════════════════════════════════════»\n",
       "                                                                              »\n",
       "«                  ┌───┐┌───┐                    ┌───┐┌───┐      ░ ┌─┐      \n",
       "«   q_0: ───────■──┤ H ├┤ X ├─────────────────■──┤ X ├┤ H ├──────░─┤M├──────\n",
       "«               │  ├───┤├───┤                 │  ├───┤├───┤      ░ └╥┘┌─┐   \n",
       "«   q_1: ───────■──┤ H ├┤ X ├─────────────────■──┤ X ├┤ H ├──────░──╫─┤M├───\n",
       "«        ┌───┐┌─┴─┐├───┤├───┤┌───┐┌───┐┌───┐┌─┴─┐├───┤├───┤┌───┐ ░  ║ └╥┘┌─┐\n",
       "«   q_2: ┤ H ├┤ X ├┤ H ├┤ X ├┤ H ├┤ X ├┤ H ├┤ X ├┤ H ├┤ X ├┤ H ├─░──╫──╫─┤M├\n",
       "«        └───┘└───┘└───┘└───┘└───┘└───┘└───┘└───┘└───┘└───┘└───┘ ░  ║  ║ └╥┘\n",
       "«meas: 3/═══════════════════════════════════════════════════════════╩══╩══╩═\n",
       "«                                                                   0  1  2 </pre>"
      ],
      "text/plain": [
       "        ┌───┐               ┌───┐┌───┐                    ┌───┐┌───┐          »\n",
       "   q_0: ┤ H ├────────────■──┤ H ├┤ X ├─────────────────■──┤ X ├┤ H ├──────────»\n",
       "        ├───┤            │  ├───┤├───┤                 │  ├───┤├───┤          »\n",
       "   q_1: ┤ H ├────────────■──┤ H ├┤ X ├─────────────────■──┤ X ├┤ H ├──────────»\n",
       "        ├───┤┌───┐┌───┐┌─┴─┐├───┤├───┤┌───┐┌───┐┌───┐┌─┴─┐├───┤├───┤┌───┐┌───┐»\n",
       "   q_2: ┤ H ├┤ X ├┤ H ├┤ X ├┤ H ├┤ X ├┤ H ├┤ X ├┤ H ├┤ X ├┤ H ├┤ X ├┤ H ├┤ X ├»\n",
       "        └───┘└───┘└───┘└───┘└───┘└───┘└───┘└───┘└───┘└───┘└───┘└───┘└───┘└───┘»\n",
       "meas: 3/══════════════════════════════════════════════════════════════════════»\n",
       "                                                                              »\n",
       "«                  ┌───┐┌───┐                    ┌───┐┌───┐      ░ ┌─┐      \n",
       "«   q_0: ───────■──┤ H ├┤ X ├─────────────────■──┤ X ├┤ H ├──────░─┤M├──────\n",
       "«               │  ├───┤├───┤                 │  ├───┤├───┤      ░ └╥┘┌─┐   \n",
       "«   q_1: ───────■──┤ H ├┤ X ├─────────────────■──┤ X ├┤ H ├──────░──╫─┤M├───\n",
       "«        ┌───┐┌─┴─┐├───┤├───┤┌───┐┌───┐┌───┐┌─┴─┐├───┤├───┤┌───┐ ░  ║ └╥┘┌─┐\n",
       "«   q_2: ┤ H ├┤ X ├┤ H ├┤ X ├┤ H ├┤ X ├┤ H ├┤ X ├┤ H ├┤ X ├┤ H ├─░──╫──╫─┤M├\n",
       "«        └───┘└───┘└───┘└───┘└───┘└───┘└───┘└───┘└───┘└───┘└───┘ ░  ║  ║ └╥┘\n",
       "«meas: 3/═══════════════════════════════════════════════════════════╩══╩══╩═\n",
       "«                                                                   0  1  2 "
      ]
     },
     "execution_count": 10,
     "metadata": {},
     "output_type": "execute_result"
    }
   ],
   "source": [
    "qc_transpiled.draw()"
   ]
  }
 ],
 "metadata": {
  "kernelspec": {
   "display_name": "Python 3",
   "language": "python",
   "name": "python3"
  },
  "language_info": {
   "codemirror_mode": {
    "name": "ipython",
    "version": 3
   },
   "file_extension": ".py",
   "mimetype": "text/x-python",
   "name": "python",
   "nbconvert_exporter": "python",
   "pygments_lexer": "ipython3",
   "version": "3.10.13"
  },
  "varInspector": {
   "cols": {
    "lenName": 16,
    "lenType": 16,
    "lenVar": 40
   },
   "kernels_config": {
    "python": {
     "delete_cmd_postfix": "",
     "delete_cmd_prefix": "del ",
     "library": "var_list.py",
     "varRefreshCmd": "print(var_dic_list())"
    },
    "r": {
     "delete_cmd_postfix": ") ",
     "delete_cmd_prefix": "rm(",
     "library": "var_list.r",
     "varRefreshCmd": "cat(var_dic_list()) "
    }
   },
   "types_to_exclude": [
    "module",
    "function",
    "builtin_function_or_method",
    "instance",
    "_Feature"
   ],
   "window_display": false
  }
 },
 "nbformat": 4,
 "nbformat_minor": 5
}
