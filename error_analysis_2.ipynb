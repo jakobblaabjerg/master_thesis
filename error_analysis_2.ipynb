{
 "cells": [
  {
   "cell_type": "markdown",
   "metadata": {},
   "source": [
    "# Error Analysis"
   ]
  },
  {
   "cell_type": "markdown",
   "metadata": {},
   "source": [
    "Time steps error"
   ]
  },
  {
   "cell_type": "code",
   "execution_count": null,
   "metadata": {},
   "outputs": [],
   "source": [
    "import numpy as np\n",
    "import math\n",
    "from scipy.stats import norm"
   ]
  },
  {
   "cell_type": "markdown",
   "metadata": {},
   "source": [
    "Options parameters"
   ]
  },
  {
   "cell_type": "code",
   "execution_count": null,
   "metadata": {},
   "outputs": [],
   "source": [
    "S_0 = 100  # asset price at t=0 \n",
    "T = 1 # time to maturity in years\n",
    "K = 50 # strike price\n",
    "r = 0.05 # risk-free interest rate\n",
    "sigma = 0.6 # volatility\n",
    "k = 10 # time steps\n",
    "M = 100000 # samples\n",
    "dt = T/k # time step"
   ]
  },
  {
   "cell_type": "markdown",
   "metadata": {},
   "source": [
    "Black-Scholes formula"
   ]
  },
  {
   "cell_type": "code",
   "execution_count": null,
   "metadata": {},
   "outputs": [],
   "source": [
    "d_1 = (np.log(S_0/K)+(r+0.5*sigma**2)*T)/(sigma*T**0.5)\n",
    "d_2 = (np.log(S_0/K)+(r-0.5*sigma**2)*T)/(sigma*T**0.5)\n",
    "\n",
    "C_0_true = S_0*norm.cdf(d_1)-math.exp(-r*T)*K*norm.cdf(d_2)\n",
    "print(f'European Call (BS): {C_0_true}')"
   ]
  },
  {
   "cell_type": "markdown",
   "metadata": {},
   "source": [
    "Run Monte Carlo method"
   ]
  },
  {
   "cell_type": "code",
   "execution_count": null,
   "metadata": {},
   "outputs": [],
   "source": [
    "lnS = np.log(S_0)\n",
    "\n",
    "sum_CT = 0\n",
    "sum_CT2 = 0\n",
    "\n",
    "for i in range(M):\n",
    "    lnSt = lnS\n",
    "\n",
    "    for j in range(k):\n",
    "        lnSt = lnSt + (r - 0.5*sigma**2)*dt + sigma*np.sqrt(dt)*np.random.normal()\n",
    "    \n",
    "    ST = np.exp(lnSt)\n",
    "    CT = max(0, ST-K)\n",
    "\n",
    "    sum_CT += CT\n",
    "    sum_CT2 += CT**2\n",
    "\n",
    "C0 = np.exp(-r*T)*sum_CT/M\n",
    "std = np.sqrt((sum_CT2-sum_CT*sum_CT/M)*np.exp(-2*r*T) / (M-1) )\n",
    "SE = std/np.sqrt(M)\n",
    "\n",
    "print(C0)"
   ]
  },
  {
   "cell_type": "markdown",
   "metadata": {},
   "source": [
    "Run experiments with different number of time steps"
   ]
  },
  {
   "cell_type": "code",
   "execution_count": null,
   "metadata": {},
   "outputs": [],
   "source": [
    "lnS = np.log(S_0)\n",
    "max_iterations = 1\n",
    "max_samples = 23\n",
    "M_list = [2**(i+1) for i in range(max_samples)]\n",
    "k_list = [1, 5, 10] # time steps\n",
    "\n",
    "for k in k_list:\n",
    "    dt = T/k\n",
    "    results = []\n",
    "    for experiment in range(max_iterations):\n",
    "        \n",
    "        estimations = []\n",
    "        standard_deviations = []\n",
    "        errors = []\n",
    "\n",
    "        for M in M_list:\n",
    "            \n",
    "            # generate sample\n",
    "            Z = np.random.normal(size=(k, M)) \n",
    "            delta_lnSt = (r - 0.5*sigma**2)*dt + sigma*np.sqrt(dt)*Z\n",
    "            lnSt = lnS + np.cumsum(delta_lnSt, axis=0)\n",
    "            lnSt = np.concatenate((np.full(shape=(1, M), fill_value=lnS), lnSt))\n",
    "            \n",
    "            # compute Expectation and SE\n",
    "            ST = np.exp(lnSt)\n",
    "            CT = np.maximum(0, ST - K)\n",
    "            C0 = np.exp(-r*T)*np.sum(CT[-1])/M\n",
    "            std = np.sqrt( np.sum( (CT[-1] - C0)**2) / (M-1) )\n",
    "            SE = std/np.sqrt(M)\n",
    "            estimations.append(C0)\n",
    "            standard_deviations.append(std)\n",
    "            errors.append(abs(C0-C_0_true)/C_0_true)\n",
    "       \n",
    "        results.append([estimations, standard_deviations, errors, M_list])\n",
    "    \n",
    "    print(\"Call value is ${0} with SE +/- {1}\".format(np.round(C0,2),np.round(SE,2)))\n",
    "    "
   ]
  }
 ],
 "metadata": {
  "kernelspec": {
   "display_name": "amlfall23",
   "language": "python",
   "name": "python3"
  },
  "language_info": {
   "codemirror_mode": {
    "name": "ipython",
    "version": 3
   },
   "file_extension": ".py",
   "mimetype": "text/x-python",
   "name": "python",
   "nbconvert_exporter": "python",
   "pygments_lexer": "ipython3",
   "version": "3.10.13"
  }
 },
 "nbformat": 4,
 "nbformat_minor": 2
}
