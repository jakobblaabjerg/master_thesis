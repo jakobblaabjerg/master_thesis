{
 "cells": [
  {
   "cell_type": "markdown",
   "metadata": {},
   "source": [
    "# Error Analysis"
   ]
  },
  {
   "cell_type": "markdown",
   "metadata": {},
   "source": [
    "Truncation & Discretization error"
   ]
  },
  {
   "cell_type": "code",
   "execution_count": null,
   "metadata": {},
   "outputs": [],
   "source": [
    "import numpy as np\n",
    "from scipy.stats import norm\n",
    "import math\n",
    "import matplotlib.pyplot as plt\n",
    "import random "
   ]
  },
  {
   "cell_type": "markdown",
   "metadata": {},
   "source": [
    "European call option parameters"
   ]
  },
  {
   "cell_type": "code",
   "execution_count": null,
   "metadata": {},
   "outputs": [],
   "source": [
    "S_0 = 100 # asset price at t=0 \n",
    "sigma = 0.2 # volatility\n",
    "K = 50 # strike price\n",
    "r = 0.05 # risk-free interest rate\n",
    "T = 1 # time to maturity in years\n",
    "\n",
    "parameters = {'S_0': S_0, \n",
    "              'sigma': sigma,\n",
    "              'K': K,\n",
    "              'r': r,\n",
    "              'T': T\n",
    "              }"
   ]
  },
  {
   "cell_type": "markdown",
   "metadata": {},
   "source": [
    "Black-Scholes Formula"
   ]
  },
  {
   "cell_type": "code",
   "execution_count": null,
   "metadata": {},
   "outputs": [],
   "source": [
    "d_1 = (np.log(S_0/K)+(r+0.5*sigma**2)*T)/(sigma*T**0.5)\n",
    "d_2 = (np.log(S_0/K)+(r-0.5*sigma**2)*T)/(sigma*T**0.5)\n",
    "\n",
    "C_0 = S_0*norm.cdf(d_1)-math.exp(-r*T)*K*norm.cdf(d_2)\n",
    "P_0 = math.exp(-r*T)*K*norm.cdf(-d_2)-S_0*norm.cdf(-d_1)\n",
    "\n",
    "print(f'European Call (BS): {C_0}')\n",
    "print(f'European Put (BS): {P_0}')"
   ]
  },
  {
   "cell_type": "code",
   "execution_count": null,
   "metadata": {},
   "outputs": [],
   "source": [
    "def discretized_standard_MC(M, parameters, distribution, option_type):\n",
    "    \"\"\"\n",
    "    Perform Monte Carlo estimation for option \n",
    "    pricing using a discretized approach.\n",
    "\n",
    "    Parameters:\n",
    "    M (int): Number of samples.\n",
    "    parameters (dict): Dictionary containing option parameters.\n",
    "    distribution (tuple): Tuple containing: probability distribution\n",
    "    option_type (str): Type of the option, either 'call' or 'put'.\n",
    "\n",
    "    Returns:\n",
    "    tuple: A tuple containing the discounted expected payoff\n",
    "        and the standard deviation of the payoff.\n",
    "    \"\"\"\n",
    "\n",
    "    S_0 = parameters['S_0']\n",
    "    r = parameters['r']\n",
    "    sigma = parameters['sigma']\n",
    "    T = parameters['T']\n",
    "    K = parameters['K']\n",
    "\n",
    "    x = distribution[0]\n",
    "    y = distribution[1]\n",
    "\n",
    "     # Generate M samples of the option payoff based on the option type\n",
    "    if option_type == 'call':\n",
    "        samples = [max(S_0*math.exp((r-sigma**2/2)*T+sigma*random.choices(x, y)[0])-K,0) for _ in range(M)]\n",
    "    \n",
    "    elif option_type == 'put':\n",
    "        samples = [max(K-S_0*math.exp((r-sigma**2/2)*T+sigma*random.choices(x, y)[0]),0) for _ in range(M)]\n",
    "    \n",
    "    else:\n",
    "        return -1\n",
    "\n",
    "    # expected payoff\n",
    "    mean = np.mean(samples)\n",
    "\n",
    "    # standard deviation\n",
    "    std = np.std(samples)\n",
    "\n",
    "    # discounted payoff\n",
    "    return math.exp(-r*T)*(mean), std "
   ]
  },
  {
   "cell_type": "code",
   "execution_count": null,
   "metadata": {},
   "outputs": [],
   "source": [
    "def standard_MC(M, parameters, option_type):\n",
    "    \"\"\"\n",
    "    Perform standard Monte Carlo estimation for option \n",
    "    pricing\n",
    "\n",
    "    Parameters:\n",
    "    M (int): Number of samples.\n",
    "    parameters (dict): Dictionary containing option parameters.\n",
    "    option_type (str): Type of the option, either 'call' or 'put'.\n",
    "\n",
    "    Returns:\n",
    "    tuple: A tuple containing the discounted expected payoff\n",
    "        and the standard deviation of the payoff.\n",
    "    \"\"\"\n",
    "\n",
    "    S_0 = parameters['S_0']\n",
    "    r = parameters['r']\n",
    "    sigma = parameters['sigma']\n",
    "    T = parameters['T']\n",
    "    K = parameters['K']\n",
    "\n",
    "    if option_type == 'call':\n",
    "        samples = [max(S_0*math.exp((r-sigma**2/2)*T+sigma*np.random.normal(0, T**0.5))-K,0) for _ in range(M)]\n",
    "\n",
    "    else:\n",
    "        return -1\n",
    "\n",
    "    # expected payoff\n",
    "    mean = np.mean(samples)\n",
    "    std = np.std(samples)\n",
    "\n",
    "    # discounted payoff\n",
    "    return math.exp(-r*T)*(mean), std "
   ]
  },
  {
   "cell_type": "markdown",
   "metadata": {},
   "source": [
    "Run experiment with different truncation and discretization"
   ]
  },
  {
   "cell_type": "code",
   "execution_count": null,
   "metadata": {},
   "outputs": [],
   "source": [
    "option_type = 'call'\n",
    "max_iterations = 1\n",
    "max_samples = 22\n",
    "max_discretization = 6\n",
    "M_list = [2**(i+1) for i in range(max_samples)]\n",
    "trunc_level = 3\n",
    "\n",
    "for n in range(1, max_discretization+1):\n",
    "\n",
    "    # create discrete probability distribution\n",
    "    mean = 0 \n",
    "    std = T**0.5\n",
    "    x_discretized = np.linspace(-trunc_level*std, trunc_level*std, 2**n)\n",
    "    y_discretized = [1/(std*(2*math.pi)**0.5)*math.exp(-1/2*((x-mean)/std)**2) for x in x_discretized]\n",
    "    y_probability = [y/sum(y_discretized) for y in y_discretized]\n",
    "    distribution = [x_discretized, y_probability]\n",
    "    \n",
    "    # save results\n",
    "    results = []\n",
    "\n",
    "    # repeat experiment\n",
    "    for experiment in range(max_iterations):\n",
    "\n",
    "        estimations = []\n",
    "        standard_deviations = []\n",
    "        errors = []\n",
    "        \n",
    "        # run with diffrent number of samples \n",
    "        for M in M_list:\n",
    "            res = discretized_standard_MC(M, parameters, distribution, option_type)\n",
    "            estimations.append(res[0])\n",
    "            standard_deviations.append(res[1])\n",
    "            errors.append(abs(res[0]-C_0)/C_0)\n",
    "        results.append([estimations, standard_deviations, errors, M_list])\n",
    "\n",
    "print(C_0)"
   ]
  }
 ],
 "metadata": {
  "kernelspec": {
   "display_name": "amlfall23",
   "language": "python",
   "name": "python3"
  },
  "language_info": {
   "codemirror_mode": {
    "name": "ipython",
    "version": 3
   },
   "file_extension": ".py",
   "mimetype": "text/x-python",
   "name": "python",
   "nbconvert_exporter": "python",
   "pygments_lexer": "ipython3",
   "version": "3.10.13"
  }
 },
 "nbformat": 4,
 "nbformat_minor": 2
}
