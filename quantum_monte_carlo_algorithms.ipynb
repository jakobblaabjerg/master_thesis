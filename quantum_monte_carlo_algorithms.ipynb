{
 "cells": [
  {
   "cell_type": "markdown",
   "metadata": {},
   "source": [
    "# Quantum Monte Carlo algorithms "
   ]
  },
  {
   "cell_type": "code",
   "execution_count": 7,
   "metadata": {},
   "outputs": [],
   "source": [
    "import random\n",
    "import matplotlib.pyplot as plt\n",
    "import math\n",
    "from qiskit import QuantumCircuit, QuantumRegister, ClassicalRegister, transpile\n",
    "from qiskit_aer import Aer\n",
    "from qiskit.circuit.library import RYGate, QFT, GroverOperator, GlobalPhaseGate\n",
    "from qiskit.quantum_info import Operator \n",
    "from qiskit.primitives import Sampler\n",
    "from qiskit_algorithms import AmplitudeEstimation, EstimationProblem\n",
    "import numpy as np"
   ]
  },
  {
   "cell_type": "markdown",
   "metadata": {},
   "source": [
    "Estimation of the mean with bounded L2 norm"
   ]
  },
  {
   "cell_type": "code",
   "execution_count": 51,
   "metadata": {},
   "outputs": [
    {
     "name": "stdout",
     "output_type": "stream",
     "text": [
      "[2.6216862761593824, 2.194321328722708, 3.156277587872592, 1.5565770938006556, 1.2310172850857932, 0.02240434195214469, 1.8682511080679438, 2.28929856159165]\n"
     ]
    }
   ],
   "source": [
    "# number of qubits\n",
    "n = 3 \n",
    "\n",
    "# generate output values in [0, 4]\n",
    "output_values = [random.uniform(0, 4) for _ in range(2**n)]\n",
    "print(output_values)"
   ]
  },
  {
   "cell_type": "code",
   "execution_count": 52,
   "metadata": {},
   "outputs": [
    {
     "name": "stdout",
     "output_type": "stream",
     "text": [
      "Expectation value: 1.8674791979066088\n"
     ]
    }
   ],
   "source": [
    "expectation = sum(output_values)/len(output_values)\n",
    "print(f'Expectation value: {expectation}')"
   ]
  },
  {
   "cell_type": "code",
   "execution_count": 53,
   "metadata": {},
   "outputs": [
    {
     "data": {
      "text/plain": [
       "{'000': 2.6216862761593824,\n",
       " '001': 2.194321328722708,\n",
       " '010': 3.156277587872592,\n",
       " '011': 1.5565770938006556,\n",
       " '100': 1.2310172850857932,\n",
       " '101': 0.02240434195214469,\n",
       " '110': 1.8682511080679438,\n",
       " '111': 2.28929856159165}"
      ]
     },
     "execution_count": 53,
     "metadata": {},
     "output_type": "execute_result"
    }
   ],
   "source": [
    "# create mapping\n",
    "bit_strings = [format(i, f'0{n}b') for i in range(2**n)]\n",
    "mapping = dict(zip(bit_strings, output_values))\n",
    "mapping"
   ]
  },
  {
   "cell_type": "markdown",
   "metadata": {},
   "source": [
    "Define functions"
   ]
  },
  {
   "cell_type": "code",
   "execution_count": 20,
   "metadata": {},
   "outputs": [],
   "source": [
    "def A_1(value, x):\n",
    "    \"\"\"\n",
    "    Returns the value if it is less than x, otherwise return 0.\n",
    "    \"\"\"\n",
    "    if value < x:\n",
    "        res = value\n",
    "    else:\n",
    "        res = 0 \n",
    "    return res\n",
    "\n",
    "def A_2(value, x, y):\n",
    "    \"\"\"\n",
    "    Returns the value if it is between x and y \n",
    "    (inclusive of x, exclusive of y), otherwise return 0.\n",
    "    \"\"\"\n",
    "    if value >= x and value < y:\n",
    "        res = value\n",
    "    else:\n",
    "        res = 0 \n",
    "    return res\n",
    "\n",
    "def A_3(value, y):\n",
    "    \"\"\"\n",
    "    Returns the value if it is greater than or equal to y, \n",
    "    otherwise return 0.\n",
    "    \"\"\" \n",
    "    if value >= y:\n",
    "        res = value\n",
    "    else:\n",
    "        res = 0 \n",
    "    return res\n",
    "\n",
    "def A_prime(value, sigma):\n",
    "    return value/sigma\n",
    "\n",
    "def state_function(state, value, qc):\n",
    "    \"\"\"\n",
    "    Applies controlled rotations based on the state and value.\n",
    "\n",
    "    Parameters:\n",
    "    state (str): The bit string representing the state.\n",
    "    value (float): The value for rotation.\n",
    "    qc (QuantumCircuit): The quantum circuit.\n",
    "    n (int): Number of qubits per time step.\n",
    "    k (int): Number of time steps.\n",
    "    \"\"\"\n",
    "    \n",
    "    for i in range(len(state)):\n",
    "        if state[i] == '0':\n",
    "            qc.x([len(state)-i])\n",
    "\n",
    "    # calculate the rotation angle\n",
    "    theta = math.asin(value**0.5)*2   \n",
    "\n",
    "    # create a controlled RY gate\n",
    "    rot = RYGate(theta).control(len(state))\n",
    "\n",
    "    # apply the controlled rotation \n",
    "    qc.append(rot, [1, 2, 3, 0])\n",
    "    \n",
    "    for i in range(len(state)):\n",
    "        if state[i] == '0':\n",
    "            qc.x([len(state)-i]) \n",
    "\n",
    "def V_operator(qc):\n",
    "    \"\"\"\n",
    "    Applies the phase oracle (V operator) to the quantum circuit.\n",
    "\n",
    "    Parameters:\n",
    "    qc (QuantumCircuit): The quantum circuit.\n",
    "    \"\"\"\n",
    "    qc.h([0])\n",
    "    qc.x([0])\n",
    "    qc.h([0])"
   ]
  },
  {
   "cell_type": "markdown",
   "metadata": {},
   "source": [
    "Create phase oracle"
   ]
  },
  {
   "cell_type": "code",
   "execution_count": 6,
   "metadata": {},
   "outputs": [
    {
     "data": {
      "text/html": [
       "<pre style=\"word-wrap: normal;white-space: pre;background: #fff0;line-height: 1.1;font-family: &quot;Courier New&quot;,Courier,monospace\">      ┌───┐┌───┐┌───┐\n",
       "q1_0: ┤ H ├┤ X ├┤ H ├\n",
       "      └───┘└───┘└───┘\n",
       "q1_1: ───────────────\n",
       "                     \n",
       "q1_2: ───────────────\n",
       "                     \n",
       "q1_3: ───────────────\n",
       "                     </pre>"
      ],
      "text/plain": [
       "      ┌───┐┌───┐┌───┐\n",
       "q1_0: ┤ H ├┤ X ├┤ H ├\n",
       "      └───┘└───┘└───┘\n",
       "q1_1: ───────────────\n",
       "                     \n",
       "q1_2: ───────────────\n",
       "                     \n",
       "q1_3: ───────────────\n",
       "                     "
      ]
     },
     "execution_count": 6,
     "metadata": {},
     "output_type": "execute_result"
    }
   ],
   "source": [
    "# create oracle\n",
    "qr = QuantumRegister(n+1)\n",
    "oracle = QuantumCircuit(qr)\n",
    "V_operator(oracle)\n",
    "oracle.draw()"
   ]
  },
  {
   "cell_type": "markdown",
   "metadata": {},
   "source": [
    "Run algorithm"
   ]
  },
  {
   "cell_type": "code",
   "execution_count": 54,
   "metadata": {},
   "outputs": [],
   "source": [
    "m = 6 # ancilla qubits \n",
    "j = int(np.ceil(np.log2(max(mapping.values())))) # max intervals\n",
    "\n",
    "mu_estimation = 0\n",
    "temp = []\n",
    "\n",
    "for value in mapping.values():\n",
    "    temp.append(A_2(value, 0, 1))\n",
    "\n",
    "# create state preperation\n",
    "qr = QuantumRegister(n+1)\n",
    "state_prearation = QuantumCircuit(qr)\n",
    "\n",
    "# create uniform probability distribution\n",
    "state_prearation.h([x+1 for x in range(n)]) \n",
    "\n",
    "# apply state function\n",
    "for i, amplitude in enumerate(temp):\n",
    "    state_function(state=bit_strings[i], value=amplitude, qc=state_prearation)\n",
    "\n",
    "Q = GroverOperator(oracle=oracle, \n",
    "                   state_preparation=state_prearation, \n",
    "                   zero_reflection=None, \n",
    "                   reflection_qubits=None, \n",
    "                   insert_barriers=False, \n",
    "                   mcx_mode='noancilla', \n",
    "                   name='Q')\n",
    "\n",
    "sampler = Sampler()\n",
    "ae = AmplitudeEstimation(\n",
    "    num_eval_qubits=m,  # the number of evaluation qubits specifies circuit width and accuracy\n",
    "    sampler=sampler,\n",
    ")\n",
    "\n",
    "problem = EstimationProblem(\n",
    "    state_preparation=state_prearation,  # A operator\n",
    "    grover_operator=Q,  # Q operator\n",
    "    objective_qubits=[0],  # the \"good\" state Psi1 is identified as measuring |1> in qubit 0\n",
    ")\n",
    "\n",
    "ae_result = ae.estimate(problem)\n",
    "mu_estimation += ae_result.estimation\n",
    "\n",
    "for i in range(j):\n",
    "    temp = []\n",
    "    for value in mapping.values():\n",
    "        temp.append(A_2(value, 2**i, 2**(i+1))/2**(i+1))\n",
    "\n",
    "    # create state preperation\n",
    "    qr = QuantumRegister(n+1)\n",
    "    state_prearation = QuantumCircuit(qr)\n",
    "\n",
    "    # create uniform probability distribution\n",
    "    state_prearation.h([x+1 for x in range(n)]) \n",
    "\n",
    "    # apply state function\n",
    "    for x, amplitude in enumerate(temp):\n",
    "        state_function(state=bit_strings[x], value=amplitude, qc=state_prearation)\n",
    "\n",
    "    Q = GroverOperator(oracle=oracle, \n",
    "                       state_preparation=state_prearation, \n",
    "                       zero_reflection=None, \n",
    "                       reflection_qubits=None, \n",
    "                       insert_barriers=False, \n",
    "                       mcx_mode='noancilla', \n",
    "                       name='Q')\n",
    "\n",
    "    sampler = Sampler()\n",
    "    ae = AmplitudeEstimation(\n",
    "        num_eval_qubits=m,  # the number of evaluation qubits specifies circuit width and accuracy\n",
    "        sampler=sampler,\n",
    "    )\n",
    "\n",
    "    problem = EstimationProblem(\n",
    "        state_preparation=state_prearation,  # A operator\n",
    "        grover_operator=Q,  # Q operator\n",
    "        objective_qubits=[0],  # the \"good\" state Psi1 is identified as measuring |1> in qubit 0\n",
    "    )\n",
    "\n",
    "    ae_result = ae.estimate(problem)\n",
    "    mu_estimation += ae_result.estimation*2**(i+1)"
   ]
  },
  {
   "cell_type": "markdown",
   "metadata": {},
   "source": [
    "Estimation with bouded variance"
   ]
  },
  {
   "cell_type": "code",
   "execution_count": 18,
   "metadata": {},
   "outputs": [],
   "source": [
    "# number of qubits\n",
    "n = 3 \n",
    "\n",
    "# generate random output values (both positive and negative values)\n",
    "output_values = [random.uniform(-10, 20) for _ in range(2**n)]"
   ]
  },
  {
   "cell_type": "code",
   "execution_count": 19,
   "metadata": {},
   "outputs": [
    {
     "data": {
      "text/plain": [
       "{'000': 6.93025441441646,\n",
       " '001': 17.510738923046564,\n",
       " '010': -4.704285917229183,\n",
       " '011': -3.122115798698405,\n",
       " '100': 7.87914191159631,\n",
       " '101': 9.95132697516685,\n",
       " '110': -7.950494461845844,\n",
       " '111': -7.049348036694672}"
      ]
     },
     "execution_count": 19,
     "metadata": {},
     "output_type": "execute_result"
    }
   ],
   "source": [
    "# map domain values to bits\n",
    "bit_strings = [format(i, f'0{n}b') for i in range(2**n)]\n",
    "mapping = dict(zip(bit_strings, output_values))\n",
    "mapping"
   ]
  },
  {
   "cell_type": "code",
   "execution_count": 22,
   "metadata": {},
   "outputs": [
    {
     "data": {
      "text/plain": [
       "76.66015122004146"
      ]
     },
     "execution_count": 22,
     "metadata": {},
     "output_type": "execute_result"
    }
   ],
   "source": [
    "# compute the variance and mean\n",
    "\n",
    "mu = sum(output_values)/len(output_values)\n",
    "var = 0\n",
    "\n",
    "for val in output_values:\n",
    "    var += ((val-mu)**2)\n",
    "\n",
    "var = var/len(output_values)\n",
    "\n",
    "print(mu,var)"
   ]
  },
  {
   "cell_type": "markdown",
   "metadata": {},
   "source": [
    "Run algorithm"
   ]
  },
  {
   "cell_type": "code",
   "execution_count": 35,
   "metadata": {},
   "outputs": [
    {
     "name": "stdout",
     "output_type": "stream",
     "text": [
      "2.569001349790952\n"
     ]
    }
   ],
   "source": [
    "value = random.choice(output_values) # generate random value\n",
    "mean_proxy = A_prime(value, var**0.5) # find a mean proxy \n",
    "new_output_values = [A_prime(value, var**0.5)-mean_proxy for value in output_values] # scale output values\n",
    "m = 8 # ancilla qubits \n",
    "\n",
    "temp = []\n",
    "\n",
    "for value in new_output_values:\n",
    "    temp.append(-A_1(value, 0)/4)\n",
    "\n",
    "# create state preperation\n",
    "qr = QuantumRegister(n+1)\n",
    "state_prearation = QuantumCircuit(qr)\n",
    "\n",
    "# create uniform probability distribution\n",
    "state_prearation.h([x+1 for x in range(n)]) \n",
    "\n",
    "# apply state function\n",
    "for i, amplitude in enumerate(temp):\n",
    "    state_function(state=bit_strings[i], value=amplitude, qc=state_prearation)\n",
    "\n",
    "Q = GroverOperator(oracle=oracle, \n",
    "                   state_preparation=state_prearation, \n",
    "                   zero_reflection=None, \n",
    "                   reflection_qubits=None, \n",
    "                   insert_barriers=False, \n",
    "                   mcx_mode='noancilla', \n",
    "                   name='Q'\n",
    "                   )\n",
    "\n",
    "sampler = Sampler()\n",
    "ae = AmplitudeEstimation(\n",
    "    num_eval_qubits=m,  # the number of evaluation qubits specifies circuit width and accuracy\n",
    "    sampler=sampler,\n",
    ")\n",
    "\n",
    "problem = EstimationProblem(\n",
    "    state_preparation=state_prearation,  # A operator\n",
    "    grover_operator=Q,  # Q operator\n",
    "    objective_qubits=[0],  # the \"good\" state Psi1 is identified as measuring |1> in qubit 0\n",
    ")\n",
    "\n",
    "ae_result = ae.estimate(problem)\n",
    "mu_negative = ae_result.estimation\n",
    "\n",
    "\n",
    "temp = []\n",
    "\n",
    "for value in new_output_values:\n",
    "    temp.append(A_3(value, 0)/4)\n",
    "\n",
    "# create state preperation\n",
    "qr = QuantumRegister(n+1)\n",
    "state_prearation = QuantumCircuit(qr)\n",
    "\n",
    "# create uniform probability distribution\n",
    "state_prearation.h([x+1 for x in range(n)]) \n",
    "\n",
    "# apply state function\n",
    "for i, amplitude in enumerate(temp):\n",
    "    state_function(state=bit_strings[i], value=amplitude, qc=state_prearation)\n",
    "\n",
    "Q = GroverOperator(oracle=oracle, \n",
    "                   state_preparation=state_prearation, \n",
    "                   zero_reflection=None, \n",
    "                   reflection_qubits=None, \n",
    "                   insert_barriers=False, \n",
    "                   mcx_mode='noancilla', \n",
    "                   name='Q')\n",
    "\n",
    "sampler = Sampler()\n",
    "ae = AmplitudeEstimation(\n",
    "    num_eval_qubits=m,  # the number of evaluation qubits specifies circuit width and accuracy\n",
    "    sampler=sampler,\n",
    ")\n",
    "\n",
    "problem = EstimationProblem(\n",
    "    state_preparation=state_prearation,  # A operator\n",
    "    grover_operator=Q,  # Q operator\n",
    "    objective_qubits=[0],  # the \"good\" state Psi1 is identified as measuring |1> in qubit 0\n",
    ")\n",
    "\n",
    "ae_result = ae.estimate(problem)\n",
    "mu_positive = ae_result.estimation\n",
    "\n",
    "mu = mean_proxy - 4*mu_negative + 4*mu_positive\n",
    "mu = mu*var**0.5\n",
    "print(mu)"
   ]
  },
  {
   "cell_type": "markdown",
   "metadata": {},
   "source": [
    "Estimation with bounded relative error"
   ]
  },
  {
   "cell_type": "code",
   "execution_count": 59,
   "metadata": {},
   "outputs": [],
   "source": [
    "# number of qubits\n",
    "n = 3\n",
    "\n",
    "# generate random possible output values\n",
    "output_values = [random.uniform(0, 20) for _ in range(2**n)]"
   ]
  },
  {
   "cell_type": "code",
   "execution_count": 60,
   "metadata": {},
   "outputs": [
    {
     "data": {
      "text/plain": [
       "{'000': 7.00820470556669,\n",
       " '001': 19.19671010598729,\n",
       " '010': 11.591331976796607,\n",
       " '011': 17.560546899686223,\n",
       " '100': 19.07744332508022,\n",
       " '101': 0.20055749351268304,\n",
       " '110': 3.2323526824973547,\n",
       " '111': 17.200241781855333}"
      ]
     },
     "execution_count": 60,
     "metadata": {},
     "output_type": "execute_result"
    }
   ],
   "source": [
    "# map output values to bits\n",
    "bit_strings = [format(i, f'0{n}b') for i in range(2**n)]\n",
    "mapping = dict(zip(bit_strings, output_values))\n",
    "mapping"
   ]
  },
  {
   "cell_type": "code",
   "execution_count": 61,
   "metadata": {},
   "outputs": [
    {
     "name": "stdout",
     "output_type": "stream",
     "text": [
      "11.883423621372799 50.114978641125255\n"
     ]
    }
   ],
   "source": [
    "# compute the variance and mean\n",
    "mu = sum(output_values)/len(output_values)\n",
    "var = 0\n",
    "\n",
    "for val in output_values:\n",
    "    var += ((val-mu)**2)\n",
    "\n",
    "var = var/len(output_values)\n",
    "print(mu, var)"
   ]
  },
  {
   "cell_type": "markdown",
   "metadata": {},
   "source": [
    "Run algorithm"
   ]
  },
  {
   "cell_type": "code",
   "execution_count": 64,
   "metadata": {},
   "outputs": [
    {
     "name": "stdout",
     "output_type": "stream",
     "text": [
      "11.98334997700838\n"
     ]
    }
   ],
   "source": [
    "m = 7 # ancilla qubits\n",
    "j = int(np.ceil(np.log2(max(mapping.values())))) # max intervals\n",
    "\n",
    "k = 32 # this value is 32*B, and B is set to 1\n",
    "mean_proxy = sum(random.choices(output_values, k=k))/k # mean proxy\n",
    "new_output_values = [value/mean_proxy for value in output_values] # scaled output values\n",
    "\n",
    "mu_estimation = 0\n",
    "temp = []\n",
    "\n",
    "for value in new_output_values:\n",
    "    temp.append(A_2(value, 0, 1))\n",
    "\n",
    "# create state preperation\n",
    "qr = QuantumRegister(n+1)\n",
    "state_prearation = QuantumCircuit(qr)\n",
    "\n",
    "# create uniform probability distribution\n",
    "state_prearation.h([x+1 for x in range(n)]) \n",
    "\n",
    "# apply state function\n",
    "for i, amplitude in enumerate(temp):\n",
    "    state_function(state=bit_strings[i], value=amplitude, qc=state_prearation)\n",
    "\n",
    "Q = GroverOperator(oracle=oracle, \n",
    "                   state_preparation=state_prearation, \n",
    "                   zero_reflection=None, \n",
    "                   reflection_qubits=None, \n",
    "                   insert_barriers=False, \n",
    "                   mcx_mode='noancilla', \n",
    "                   name='Q')\n",
    "\n",
    "sampler = Sampler()\n",
    "ae = AmplitudeEstimation(\n",
    "    num_eval_qubits=m,  # the number of evaluation qubits specifies circuit width and accuracy\n",
    "    sampler=sampler,\n",
    ")\n",
    "\n",
    "problem = EstimationProblem(\n",
    "    state_preparation=state_prearation,  # A operator\n",
    "    grover_operator=Q,  # Q operator\n",
    "    objective_qubits=[0],  # the \"good\" state Psi1 is identified as measuring |1> in qubit 0\n",
    ")\n",
    "\n",
    "ae_result = ae.estimate(problem)\n",
    "mu_estimation += ae_result.estimation\n",
    "\n",
    "for i in range(j):\n",
    "    temp = []\n",
    "    for value in new_output_values:\n",
    "        temp.append(A_2(value, 2**i, 2**(i+1))/2**(i+1))\n",
    "\n",
    "    # create state preperation\n",
    "    qr = QuantumRegister(n+1)\n",
    "    state_prearation = QuantumCircuit(qr)\n",
    "\n",
    "    # create uniform probability distribution\n",
    "    state_prearation.h([x+1 for x in range(n)]) \n",
    "\n",
    "    # apply state function\n",
    "    for x, amplitude in enumerate(temp):\n",
    "        state_function(state=bit_strings[x], value=amplitude, qc=state_prearation)\n",
    "\n",
    "    Q = GroverOperator(oracle=oracle, \n",
    "                       state_preparation=state_prearation, \n",
    "                       zero_reflection=None, \n",
    "                       reflection_qubits=None, \n",
    "                       insert_barriers=False, \n",
    "                       mcx_mode='noancilla', \n",
    "                       name='Q')\n",
    "\n",
    "    sampler = Sampler()\n",
    "    ae = AmplitudeEstimation(\n",
    "        num_eval_qubits=m,  # the number of evaluation qubits specifies circuit width and accuracy\n",
    "        sampler=sampler,\n",
    "    )\n",
    "\n",
    "    problem = EstimationProblem(\n",
    "        state_preparation=state_prearation,  # A operator\n",
    "        grover_operator=Q,  # Q operator\n",
    "        objective_qubits=[0],  # the \"good\" state Psi1 is identified as measuring |1> in qubit 0\n",
    "    )\n",
    "\n",
    "    ae_result = ae.estimate(problem)\n",
    "    mu_estimation += ae_result.estimation*2**(i+1)\n",
    "\n",
    "\n",
    "mu = mu_estimation*mean_proxy\n",
    "print(mu)"
   ]
  }
 ],
 "metadata": {
  "kernelspec": {
   "display_name": "amlfall23",
   "language": "python",
   "name": "python3"
  },
  "language_info": {
   "codemirror_mode": {
    "name": "ipython",
    "version": 3
   },
   "file_extension": ".py",
   "mimetype": "text/x-python",
   "name": "python",
   "nbconvert_exporter": "python",
   "pygments_lexer": "ipython3",
   "version": "3.10.13"
  }
 },
 "nbformat": 4,
 "nbformat_minor": 2
}
