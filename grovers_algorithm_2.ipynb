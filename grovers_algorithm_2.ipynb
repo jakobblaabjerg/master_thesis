{
 "cells": [
  {
   "cell_type": "markdown",
   "id": "9d56fa00",
   "metadata": {},
   "source": [
    "# Grover's algorithm"
   ]
  },
  {
   "cell_type": "code",
   "execution_count": 1,
   "id": "c9bea385",
   "metadata": {},
   "outputs": [],
   "source": [
    "import math\n",
    "from qiskit import QuantumCircuit, QuantumRegister, ClassicalRegister, transpile\n",
    "from qiskit.visualization import plot_distribution, plot_histogram\n",
    "from qiskit.primitives import Sampler\n",
    "from qiskit_aer import Aer"
   ]
  },
  {
   "cell_type": "code",
   "execution_count": 2,
   "id": "6b7baaee",
   "metadata": {},
   "outputs": [],
   "source": [
    "def query_function(marked_state, qc, qr):\n",
    "\n",
    "    \"\"\"\n",
    "    Applies the query operation to mark the specified state.\n",
    "\n",
    "    Parameters:\n",
    "    marked_state (str): The binary string representing the marked state.\n",
    "    qc (QuantumCircuit): The quantum circuit to which the operation is applied.\n",
    "    qr (QuantumRegister): The quantum register containing the qubits.\n",
    "\n",
    "    Returns:\n",
    "    None\n",
    "    \"\"\"\n",
    "    \n",
    "    # apply X gate to qubits if marked_state has a zero \n",
    "    for i in range(len(marked_state)):\n",
    "        if marked_state[i] == '0':\n",
    "            qc.x(qr[len(marked_state)-1-i])\n",
    "    \n",
    "    # apply multi controlled X gate to get sign of -1 for the marked_state \n",
    "    qc.mcx(control_qubits=list(range(0,qr.size-1)), target_qubit=qr[qr.size-1])\n",
    "    \n",
    "    # apply X gate again to revert \n",
    "    for i in range(len(marked_state)):\n",
    "        if marked_state[i]=='0':\n",
    "            qc.x(qr[len(marked_state)-1-i])"
   ]
  },
  {
   "cell_type": "code",
   "execution_count": 3,
   "id": "5cb4560b",
   "metadata": {},
   "outputs": [],
   "source": [
    "def diffusion_operator(qc, qr):\n",
    "    \"\"\"\n",
    "    Applies the diffusion operator. This implementation produces \n",
    "    the diffusion operator, but without the minus sign in -HS_0H\n",
    "\n",
    "    Parameters:\n",
    "    qc (QuantumCircuit): The quantum circuit to which the operation is applied.\n",
    "    qr (QuantumRegister): The quantum register containing the qubits.\n",
    "\n",
    "    Returns:\n",
    "    None\n",
    "    \"\"\"\n",
    "    \n",
    "    # apply H and X gate\n",
    "    for i in range(qr.size-1):\n",
    "        qc.h(qr[i])\n",
    "        qc.x(qr[i])\n",
    "    \n",
    "    # apply multi controlled Z gate to get sign of -1 for the all 1 state. \n",
    "    # by applying X gates before and after this operation, the sign of -1 gets applied to the all 0 state instead  \n",
    "    qc.h(qr[qr.size-2])\n",
    "    qc.mcx(control_qubits=list(range(0,qr.size-2)), target_qubit=qr[qr.size-2])\n",
    "    qc.h(qr[qr.size-2])\n",
    "    \n",
    "    # apply X and H gate\n",
    "    for i in range(qr.size-1):\n",
    "        qc.x(qr[i])\n",
    "        qc.h(qr[i])"
   ]
  },
  {
   "cell_type": "code",
   "execution_count": 4,
   "id": "35e8f72e",
   "metadata": {},
   "outputs": [
    {
     "name": "stdout",
     "output_type": "stream",
     "text": [
      "Number of iterations: 2\n"
     ]
    },
    {
     "data": {
      "text/html": [
       "<pre style=\"word-wrap: normal;white-space: pre;background: #fff0;line-height: 1.1;font-family: &quot;Courier New&quot;,Courier,monospace\">     ┌───┐┌───┐     ┌───┐ ░ ┌───┐┌───┐          ┌───┐┌───┐      ░ ┌───┐     »\n",
       "q_0: ┤ H ├┤ X ├──■──┤ X ├─░─┤ H ├┤ X ├───────■──┤ X ├┤ H ├──────░─┤ X ├──■──»\n",
       "     ├───┤├───┤  │  ├───┤ ░ ├───┤├───┤       │  ├───┤├───┤      ░ ├───┤  │  »\n",
       "q_1: ┤ H ├┤ X ├──■──┤ X ├─░─┤ H ├┤ X ├───────■──┤ X ├┤ H ├──────░─┤ X ├──■──»\n",
       "     ├───┤└───┘  │  └───┘ ░ ├───┤├───┤┌───┐┌─┴─┐├───┤├───┤┌───┐ ░ └───┘  │  »\n",
       "q_2: ┤ H ├───────■────────░─┤ H ├┤ X ├┤ H ├┤ X ├┤ H ├┤ X ├┤ H ├─░────────■──»\n",
       "     ├───┤┌───┐┌─┴─┐      ░ └───┘└───┘└───┘└───┘└───┘└───┘└───┘ ░      ┌─┴─┐»\n",
       "q_3: ┤ X ├┤ H ├┤ X ├──────░─────────────────────────────────────░──────┤ X ├»\n",
       "     └───┘└───┘└───┘      ░                                     ░      └───┘»\n",
       "c: 3/═══════════════════════════════════════════════════════════════════════»\n",
       "                                                                            »\n",
       "«     ┌───┐ ░ ┌───┐┌───┐          ┌───┐┌───┐      ░ ┌─┐      \n",
       "«q_0: ┤ X ├─░─┤ H ├┤ X ├───────■──┤ X ├┤ H ├──────░─┤M├──────\n",
       "«     ├───┤ ░ ├───┤├───┤       │  ├───┤├───┤      ░ └╥┘┌─┐   \n",
       "«q_1: ┤ X ├─░─┤ H ├┤ X ├───────■──┤ X ├┤ H ├──────░──╫─┤M├───\n",
       "«     └───┘ ░ ├───┤├───┤┌───┐┌─┴─┐├───┤├───┤┌───┐ ░  ║ └╥┘┌─┐\n",
       "«q_2: ──────░─┤ H ├┤ X ├┤ H ├┤ X ├┤ H ├┤ X ├┤ H ├─░──╫──╫─┤M├\n",
       "«           ░ └───┘└───┘└───┘└───┘└───┘└───┘└───┘ ░  ║  ║ └╥┘\n",
       "«q_3: ──────░─────────────────────────────────────░──╫──╫──╫─\n",
       "«           ░                                     ░  ║  ║  ║ \n",
       "«c: 3/═══════════════════════════════════════════════╩══╩══╩═\n",
       "«                                                    0  1  2 </pre>"
      ],
      "text/plain": [
       "     ┌───┐┌───┐     ┌───┐ ░ ┌───┐┌───┐          ┌───┐┌───┐      ░ ┌───┐     »\n",
       "q_0: ┤ H ├┤ X ├──■──┤ X ├─░─┤ H ├┤ X ├───────■──┤ X ├┤ H ├──────░─┤ X ├──■──»\n",
       "     ├───┤├───┤  │  ├───┤ ░ ├───┤├───┤       │  ├───┤├───┤      ░ ├───┤  │  »\n",
       "q_1: ┤ H ├┤ X ├──■──┤ X ├─░─┤ H ├┤ X ├───────■──┤ X ├┤ H ├──────░─┤ X ├──■──»\n",
       "     ├───┤└───┘  │  └───┘ ░ ├───┤├───┤┌───┐┌─┴─┐├───┤├───┤┌───┐ ░ └───┘  │  »\n",
       "q_2: ┤ H ├───────■────────░─┤ H ├┤ X ├┤ H ├┤ X ├┤ H ├┤ X ├┤ H ├─░────────■──»\n",
       "     ├───┤┌───┐┌─┴─┐      ░ └───┘└───┘└───┘└───┘└───┘└───┘└───┘ ░      ┌─┴─┐»\n",
       "q_3: ┤ X ├┤ H ├┤ X ├──────░─────────────────────────────────────░──────┤ X ├»\n",
       "     └───┘└───┘└───┘      ░                                     ░      └───┘»\n",
       "c: 3/═══════════════════════════════════════════════════════════════════════»\n",
       "                                                                            »\n",
       "«     ┌───┐ ░ ┌───┐┌───┐          ┌───┐┌───┐      ░ ┌─┐      \n",
       "«q_0: ┤ X ├─░─┤ H ├┤ X ├───────■──┤ X ├┤ H ├──────░─┤M├──────\n",
       "«     ├───┤ ░ ├───┤├───┤       │  ├───┤├───┤      ░ └╥┘┌─┐   \n",
       "«q_1: ┤ X ├─░─┤ H ├┤ X ├───────■──┤ X ├┤ H ├──────░──╫─┤M├───\n",
       "«     └───┘ ░ ├───┤├───┤┌───┐┌─┴─┐├───┤├───┤┌───┐ ░  ║ └╥┘┌─┐\n",
       "«q_2: ──────░─┤ H ├┤ X ├┤ H ├┤ X ├┤ H ├┤ X ├┤ H ├─░──╫──╫─┤M├\n",
       "«           ░ └───┘└───┘└───┘└───┘└───┘└───┘└───┘ ░  ║  ║ └╥┘\n",
       "«q_3: ──────░─────────────────────────────────────░──╫──╫──╫─\n",
       "«           ░                                     ░  ║  ║  ║ \n",
       "«c: 3/═══════════════════════════════════════════════╩══╩══╩═\n",
       "«                                                    0  1  2 "
      ]
     },
     "execution_count": 4,
     "metadata": {},
     "output_type": "execute_result"
    }
   ],
   "source": [
    "# define the marked state and the number of qubits\n",
    "marked_state = '100'\n",
    "n = len(marked_state)\n",
    "\n",
    "# define quantum and classical registers\n",
    "qr0 = QuantumRegister(n+1, 'q')\n",
    "cr0 = ClassicalRegister(n, 'c')\n",
    "qc = QuantumCircuit(qr0, cr0)\n",
    "\n",
    "# initialize the one state in the ancilla qubit\n",
    "qc.x(qr0[qr0.size-1])\n",
    "\n",
    "# put all the qubits in superposition (changes ancilla to minus state)\n",
    "qc.h(qr0)\n",
    "\n",
    "# compute the required number of iterations\n",
    "iterations = math.floor(math.pi/4*math.sqrt(2**(n)))\n",
    "print(f'Number of iterations: {iterations}')\n",
    "\n",
    "# apply the grover operator repeatedly\n",
    "for i in range(iterations):\n",
    "    query_function(marked_state, qc, qr0)\n",
    "    qc.barrier()\n",
    "    diffusion_operator(qc, qr0)\n",
    "    qc.barrier()\n",
    "\n",
    "# measure the quantum register\n",
    "qc.measure(qr0[0:qr0.size-1], cr0)\n",
    "\n",
    "qc.draw()"
   ]
  },
  {
   "cell_type": "code",
   "execution_count": 5,
   "id": "62786a7a",
   "metadata": {},
   "outputs": [
    {
     "data": {
      "image/png": "[encoded data removed]",
      "text/plain": [
       "<Figure size 700x500 with 1 Axes>"
      ]
     },
     "execution_count": 5,
     "metadata": {},
     "output_type": "execute_result"
    }
   ],
   "source": [
    "# select the qasm simulator as the backend\n",
    "simulator = Aer.get_backend('qasm_simulator')\n",
    "\n",
    "# transpile the circuit for the selected simulator\n",
    "qc_transpiled = transpile(qc, simulator, optimization_level=1)\n",
    "\n",
    "# run the transpiled circuit on the simulator\n",
    "job = simulator.run(qc_transpiled, shots=100)\n",
    "\n",
    "# get results\n",
    "job_result = job.result() \n",
    "counts = job_result.get_counts(qc_transpiled)\n",
    "plot_distribution(counts)\n",
    "plot_histogram(counts)"
   ]
  }
 ],
 "metadata": {
  "kernelspec": {
   "display_name": "Python 3",
   "language": "python",
   "name": "python3"
  },
  "language_info": {
   "codemirror_mode": {
    "name": "ipython",
    "version": 3
   },
   "file_extension": ".py",
   "mimetype": "text/x-python",
   "name": "python",
   "nbconvert_exporter": "python",
   "pygments_lexer": "ipython3",
   "version": "3.10.13"
  },
  "varInspector": {
   "cols": {
    "lenName": 16,
    "lenType": 16,
    "lenVar": 40
   },
   "kernels_config": {
    "python": {
     "delete_cmd_postfix": "",
     "delete_cmd_prefix": "del ",
     "library": "var_list.py",
     "varRefreshCmd": "print(var_dic_list())"
    },
    "r": {
     "delete_cmd_postfix": ") ",
     "delete_cmd_prefix": "rm(",
     "library": "var_list.r",
     "varRefreshCmd": "cat(var_dic_list()) "
    }
   },
   "types_to_exclude": [
    "module",
    "function",
    "builtin_function_or_method",
    "instance",
    "_Feature"
   ],
   "window_display": false
  }
 },
 "nbformat": 4,
 "nbformat_minor": 5
}
