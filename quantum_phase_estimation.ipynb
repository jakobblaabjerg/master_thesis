{
 "cells": [
  {
   "cell_type": "markdown",
   "id": "57522ce9",
   "metadata": {},
   "source": [
    "# Quantum Phase Estimation"
   ]
  },
  {
   "cell_type": "markdown",
   "id": "7f3c5bfa",
   "metadata": {},
   "source": [
    "Implementation of phase estimation"
   ]
  },
  {
   "cell_type": "code",
   "execution_count": 1,
   "id": "5068d1d3",
   "metadata": {},
   "outputs": [],
   "source": [
    "from qiskit import QuantumCircuit, QuantumRegister, ClassicalRegister, transpile\n",
    "from qiskit.circuit.library import QFT\n",
    "from qiskit_aer import Aer\n",
    "from collections import Counter\n",
    "import math"
   ]
  },
  {
   "cell_type": "code",
   "execution_count": 2,
   "id": "77d27a28",
   "metadata": {},
   "outputs": [],
   "source": [
    "def query_function(marked_state, qc, qr):\n",
    "\n",
    "    \"\"\"\n",
    "    Apply the Grover query operator for a given marked state.\n",
    "\n",
    "    Parameters:\n",
    "    marked_state (str): The marked state.\n",
    "    qc (QuantumCircuit): The quantum circuit.\n",
    "    qr (QuantumRegister): The quantum register.\n",
    "    \"\"\"\n",
    "\n",
    "    # apply X gate to qubits if marked_state has a zero \n",
    "    for i in range(len(marked_state)):\n",
    "        if marked_state[i] == '0':\n",
    "            qc.x(qr[len(marked_state)-1-i])\n",
    "\n",
    "    # apply multi controlled X gate to get sign of -1 for the marked_state \n",
    "    qc.mcx(control_qubits=list(range(0,qr.size-1)), target_qubit=qr[qr.size-1])\n",
    "    \n",
    "    # apply X gate again to revert \n",
    "    for i in range(len(marked_state)):\n",
    "        if marked_state[i]=='0':\n",
    "            qc.x(qr[len(marked_state)-1-i])"
   ]
  },
  {
   "cell_type": "code",
   "execution_count": 3,
   "id": "ef76cc94",
   "metadata": {},
   "outputs": [],
   "source": [
    "def diffusion_operator(qc, qr):\n",
    "    \"\"\"\n",
    "    Apply the diffusion operator.\n",
    "\n",
    "    Parameters:\n",
    "    qc (QuantumCircuit): The quantum circuit.\n",
    "    qr (QuantumRegister): The quantum register.\n",
    "    \"\"\"\n",
    "\n",
    "    # this implementation produces the diffusion operator, but without the minus 1 sign in -HS_0H\n",
    "\n",
    "    # apply H and X gate\n",
    "    for i in range(qr.size-1):\n",
    "        qc.h(qr[i])\n",
    "        qc.x(qr[i])\n",
    "\n",
    "    # apply multi controlled Z gate to get sign of -1 for the all 1 state. \n",
    "    # by applying X gates before and after this operation, the sign of -1 gets applied to the all 0 state instead \n",
    "    qc.h(qr[qr.size-2])\n",
    "    qc.mcx(control_qubits=list(range(0,qr.size-2)), target_qubit=qr[qr.size-2])\n",
    "    qc.h(qr[qr.size-2])\n",
    "\n",
    "    # apply X and H gate\n",
    "    for i in range(qr.size-1):\n",
    "        qc.x(qr[i])\n",
    "        qc.h(qr[i])"
   ]
  },
  {
   "cell_type": "code",
   "execution_count": 4,
   "id": "df7db025",
   "metadata": {},
   "outputs": [],
   "source": [
    "def control_u_gate(power, marked_states):\n",
    "    \"\"\"\n",
    "    Construct a controlled Grover operator.\n",
    "\n",
    "    Parameters:\n",
    "    power (int): The power of the Grover operator.\n",
    "    marked_states (list): List of marked states.\n",
    "\n",
    "    Returns:\n",
    "    Gate: Controlled Grover operator.\n",
    "    \"\"\"\n",
    "    \n",
    "    n = len(marked_states[0])\n",
    "    qr = QuantumRegister(n+1)\n",
    "    qc = QuantumCircuit(qr)\n",
    "    \n",
    "    # create grover operator raised to powers of 2\n",
    "    for _ in range(2**power):\n",
    "        for marked_state in marked_states:\n",
    "            query_function(marked_state, qc, qr)    \n",
    "        diffusion_operator(qc, qr)\n",
    "\n",
    "    # convert the quantum circuit to a gate and make it a controlled gate\n",
    "    operator = qc.to_gate().control()\n",
    "    \n",
    "    return operator    "
   ]
  },
  {
   "cell_type": "markdown",
   "id": "50953a8b",
   "metadata": {},
   "source": [
    "Build circuit"
   ]
  },
  {
   "cell_type": "code",
   "execution_count": 5,
   "id": "1458cff7",
   "metadata": {},
   "outputs": [
    {
     "data": {
      "text/html": [
       "<pre style=\"word-wrap: normal;white-space: pre;background: #fff0;line-height: 1.1;font-family: &quot;Courier New&quot;,Courier,monospace\">      ┌───┐                                                     »\n",
       "q1_0: ┤ H ├────────────■────────────────────────────────────────»\n",
       "      ├───┤            │                                        »\n",
       "q1_1: ┤ H ├────────────┼───────────────■────────────────────────»\n",
       "      ├───┤            │               │                        »\n",
       "q1_2: ┤ H ├────────────┼───────────────┼───────────────■────────»\n",
       "      ├───┤            │               │               │        »\n",
       "q1_3: ┤ H ├────────────┼───────────────┼───────────────┼────────»\n",
       "      ├───┤            │               │               │        »\n",
       "q1_4: ┤ H ├────────────┼───────────────┼───────────────┼────────»\n",
       "      ├───┤     ┌──────┴───────┐┌──────┴───────┐┌──────┴───────┐»\n",
       "q1_5: ┤ H ├─────┤0             ├┤0             ├┤0             ├»\n",
       "      ├───┤     │              ││              ││              │»\n",
       "q1_6: ┤ H ├─────┤1             ├┤1             ├┤1             ├»\n",
       "      ├───┤     │  circuit-165 ││  circuit-242 ││  circuit-358 │»\n",
       "q1_7: ┤ H ├─────┤2             ├┤2             ├┤2             ├»\n",
       "      ├───┤┌───┐│              ││              ││              │»\n",
       "q1_8: ┤ X ├┤ H ├┤3             ├┤3             ├┤3             ├»\n",
       "      └───┘└───┘└──────────────┘└──────────────┘└──────────────┘»\n",
       "c0: 5/══════════════════════════════════════════════════════════»\n",
       "                                                                »\n",
       "«                                      ┌───────┐┌─┐            \n",
       "«q1_0: ────────────────────────────────┤0      ├┤M├────────────\n",
       "«                                      │       │└╥┘┌─┐         \n",
       "«q1_1: ────────────────────────────────┤1      ├─╫─┤M├─────────\n",
       "«                                      │       │ ║ └╥┘┌─┐      \n",
       "«q1_2: ────────────────────────────────┤2 IQFT ├─╫──╫─┤M├──────\n",
       "«                                      │       │ ║  ║ └╥┘┌─┐   \n",
       "«q1_3: ───────■────────────────────────┤3      ├─╫──╫──╫─┤M├───\n",
       "«             │                        │       │ ║  ║  ║ └╥┘┌─┐\n",
       "«q1_4: ───────┼───────────────■────────┤4      ├─╫──╫──╫──╫─┤M├\n",
       "«      ┌──────┴───────┐┌──────┴───────┐└───────┘ ║  ║  ║  ║ └╥┘\n",
       "«q1_5: ┤0             ├┤0             ├──────────╫──╫──╫──╫──╫─\n",
       "«      │              ││              │          ║  ║  ║  ║  ║ \n",
       "«q1_6: ┤1             ├┤1             ├──────────╫──╫──╫──╫──╫─\n",
       "«      │  circuit-552 ││  circuit-902 │          ║  ║  ║  ║  ║ \n",
       "«q1_7: ┤2             ├┤2             ├──────────╫──╫──╫──╫──╫─\n",
       "«      │              ││              │          ║  ║  ║  ║  ║ \n",
       "«q1_8: ┤3             ├┤3             ├──────────╫──╫──╫──╫──╫─\n",
       "«      └──────────────┘└──────────────┘          ║  ║  ║  ║  ║ \n",
       "«c0: 5/══════════════════════════════════════════╩══╩══╩══╩══╩═\n",
       "«                                                0  1  2  3  4 </pre>"
      ],
      "text/plain": [
       "      ┌───┐                                                     »\n",
       "q1_0: ┤ H ├────────────■────────────────────────────────────────»\n",
       "      ├───┤            │                                        »\n",
       "q1_1: ┤ H ├────────────┼───────────────■────────────────────────»\n",
       "      ├───┤            │               │                        »\n",
       "q1_2: ┤ H ├────────────┼───────────────┼───────────────■────────»\n",
       "      ├───┤            │               │               │        »\n",
       "q1_3: ┤ H ├────────────┼───────────────┼───────────────┼────────»\n",
       "      ├───┤            │               │               │        »\n",
       "q1_4: ┤ H ├────────────┼───────────────┼───────────────┼────────»\n",
       "      ├───┤     ┌──────┴───────┐┌──────┴───────┐┌──────┴───────┐»\n",
       "q1_5: ┤ H ├─────┤0             ├┤0             ├┤0             ├»\n",
       "      ├───┤     │              ││              ││              │»\n",
       "q1_6: ┤ H ├─────┤1             ├┤1             ├┤1             ├»\n",
       "      ├───┤     │  circuit-165 ││  circuit-242 ││  circuit-358 │»\n",
       "q1_7: ┤ H ├─────┤2             ├┤2             ├┤2             ├»\n",
       "      ├───┤┌───┐│              ││              ││              │»\n",
       "q1_8: ┤ X ├┤ H ├┤3             ├┤3             ├┤3             ├»\n",
       "      └───┘└───┘└──────────────┘└──────────────┘└──────────────┘»\n",
       "c0: 5/══════════════════════════════════════════════════════════»\n",
       "                                                                »\n",
       "«                                      ┌───────┐┌─┐            \n",
       "«q1_0: ────────────────────────────────┤0      ├┤M├────────────\n",
       "«                                      │       │└╥┘┌─┐         \n",
       "«q1_1: ────────────────────────────────┤1      ├─╫─┤M├─────────\n",
       "«                                      │       │ ║ └╥┘┌─┐      \n",
       "«q1_2: ────────────────────────────────┤2 IQFT ├─╫──╫─┤M├──────\n",
       "«                                      │       │ ║  ║ └╥┘┌─┐   \n",
       "«q1_3: ───────■────────────────────────┤3      ├─╫──╫──╫─┤M├───\n",
       "«             │                        │       │ ║  ║  ║ └╥┘┌─┐\n",
       "«q1_4: ───────┼───────────────■────────┤4      ├─╫──╫──╫──╫─┤M├\n",
       "«      ┌──────┴───────┐┌──────┴───────┐└───────┘ ║  ║  ║  ║ └╥┘\n",
       "«q1_5: ┤0             ├┤0             ├──────────╫──╫──╫──╫──╫─\n",
       "«      │              ││              │          ║  ║  ║  ║  ║ \n",
       "«q1_6: ┤1             ├┤1             ├──────────╫──╫──╫──╫──╫─\n",
       "«      │  circuit-552 ││  circuit-902 │          ║  ║  ║  ║  ║ \n",
       "«q1_7: ┤2             ├┤2             ├──────────╫──╫──╫──╫──╫─\n",
       "«      │              ││              │          ║  ║  ║  ║  ║ \n",
       "«q1_8: ┤3             ├┤3             ├──────────╫──╫──╫──╫──╫─\n",
       "«      └──────────────┘└──────────────┘          ║  ║  ║  ║  ║ \n",
       "«c0: 5/══════════════════════════════════════════╩══╩══╩══╩══╩═\n",
       "«                                                0  1  2  3  4 "
      ]
     },
     "execution_count": 5,
     "metadata": {},
     "output_type": "execute_result"
    }
   ],
   "source": [
    "# define marked states and the number of qubits\n",
    "marked_states = ['100', '101', '111']\n",
    "m = 5 # ancilla qubits\n",
    "n = len(marked_states[0]) #qubits to describe the eigenvector\n",
    "\n",
    "# create quantum and classical registers\n",
    "qr = QuantumRegister(n+m+1)\n",
    "cr = ClassicalRegister(m)\n",
    "qc = QuantumCircuit(qr,cr)\n",
    "\n",
    "# initialize the ancilla qubit to the 1 state\n",
    "qc.x(qr[qr.size-1])\n",
    "\n",
    "# put all qubits in superposition\n",
    "qc.h(qr[0:qr.size])\n",
    "\n",
    "#m = cr.size\n",
    "\n",
    "# apply control U gates of grover operator\n",
    "for i in range(m):\n",
    "    indices = [i]\n",
    "    indices+=list(range(m,qr.size))\n",
    "    qc.append(control_u_gate(power=i, marked_states=marked_states), indices)\n",
    "\n",
    "# apply inverse QFT on ancilla qubits\n",
    "qc.append(QFT(m).inverse(), qr[0:m])\n",
    "qc.measure(qr[0:m], cr)\n",
    "qc.draw()"
   ]
  },
  {
   "cell_type": "code",
   "execution_count": 6,
   "id": "8b2bf230",
   "metadata": {},
   "outputs": [],
   "source": [
    "# select the qasm simulator as the backend\n",
    "simulator = Aer.get_backend(\"qasm_simulator\")\n",
    "\n",
    "# transpile the circuit for the selected simulator\n",
    "qc_transpiled = transpile(qc, simulator)\n",
    "\n",
    "# run the transpiled circuit on the simulator\n",
    "job = simulator.run(qc_transpiled, shots=2000) \n",
    "\n",
    "# get results\n",
    "result = job.result()\n",
    "counts = result.get_counts(qc)\n",
    "most_frequent = max(counts, key=counts.get)\n",
    "\n",
    "# convert the binary string into an integer\n",
    "int_value = int(most_frequent, 2)"
   ]
  },
  {
   "cell_type": "code",
   "execution_count": 7,
   "id": "a5db0cfc",
   "metadata": {},
   "outputs": [
    {
     "name": "stdout",
     "output_type": "stream",
     "text": [
      "3.8288160465625602\n",
      "0.6872233929727671\n"
     ]
    }
   ],
   "source": [
    "# estimated value of theta \n",
    "print(math.pi*int_value/(2**m)+math.pi/2)\n",
    "print(math.pi*int_value/(2**m)-math.pi/2)"
   ]
  },
  {
   "cell_type": "code",
   "execution_count": 8,
   "id": "15b05e1a",
   "metadata": {},
   "outputs": [
    {
     "name": "stdout",
     "output_type": "stream",
     "text": [
      "0.6590580358264089\n"
     ]
    }
   ],
   "source": [
    "# correct value of theta\n",
    "print(math.asin((len(marked_states)/2**len(marked_states[0]))**0.5))"
   ]
  },
  {
   "cell_type": "code",
   "execution_count": 9,
   "id": "fcfa5f16",
   "metadata": {},
   "outputs": [
    {
     "name": "stdout",
     "output_type": "stream",
     "text": [
      "0.40245483899193557\n",
      "0.40245483899193574\n"
     ]
    }
   ],
   "source": [
    "# estimated applitude\n",
    "print(math.sin(math.pi*int_value/(2**m)+math.pi/2)**2)\n",
    "print(math.sin(math.pi*int_value/(2**m)-math.pi/2)**2)"
   ]
  },
  {
   "cell_type": "code",
   "execution_count": 10,
   "id": "22d9a4e9",
   "metadata": {},
   "outputs": [
    {
     "data": {
      "text/plain": [
       "0.375"
      ]
     },
     "execution_count": 10,
     "metadata": {},
     "output_type": "execute_result"
    }
   ],
   "source": [
    "# correct amplitude\n",
    "(len(marked_states)/2**len(marked_states[0]))"
   ]
  },
  {
   "cell_type": "code",
   "execution_count": 11,
   "id": "e0f98d64",
   "metadata": {},
   "outputs": [
    {
     "data": {
      "text/plain": [
       "3.219638711935486"
      ]
     },
     "execution_count": 11,
     "metadata": {},
     "output_type": "execute_result"
    }
   ],
   "source": [
    "# number of solutions\n",
    "math.sin(math.pi*int_value/(2**m)-math.pi/2)*math.sin(math.pi*int_value/(2**m)-math.pi/2)*2**len(marked_states[0])"
   ]
  }
 ],
 "metadata": {
  "kernelspec": {
   "display_name": "Python 3",
   "language": "python",
   "name": "python3"
  },
  "language_info": {
   "codemirror_mode": {
    "name": "ipython",
    "version": 3
   },
   "file_extension": ".py",
   "mimetype": "text/x-python",
   "name": "python",
   "nbconvert_exporter": "python",
   "pygments_lexer": "ipython3",
   "version": "3.10.13"
  },
  "varInspector": {
   "cols": {
    "lenName": 16,
    "lenType": 16,
    "lenVar": 40
   },
   "kernels_config": {
    "python": {
     "delete_cmd_postfix": "",
     "delete_cmd_prefix": "del ",
     "library": "var_list.py",
     "varRefreshCmd": "print(var_dic_list())"
    },
    "r": {
     "delete_cmd_postfix": ") ",
     "delete_cmd_prefix": "rm(",
     "library": "var_list.r",
     "varRefreshCmd": "cat(var_dic_list()) "
    }
   },
   "types_to_exclude": [
    "module",
    "function",
    "builtin_function_or_method",
    "instance",
    "_Feature"
   ],
   "window_display": false
  }
 },
 "nbformat": 4,
 "nbformat_minor": 5
}
